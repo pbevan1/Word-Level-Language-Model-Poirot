{
  "nbformat": 4,
  "nbformat_minor": 0,
  "metadata": {
    "colab": {
      "name": "Language.ipynb",
      "provenance": [],
      "collapsed_sections": [],
      "authorship_tag": "ABX9TyMRZ694jdvoc4zFeLstsblv",
      "include_colab_link": true
    },
    "kernelspec": {
      "name": "python3",
      "display_name": "Python 3"
    }
  },
  "cells": [
    {
      "cell_type": "markdown",
      "metadata": {
        "id": "view-in-github",
        "colab_type": "text"
      },
      "source": [
        "<a href=\"https://colab.research.google.com/github/pbevan1/Word-Level-Language-Model-Poirot/blob/main/poirot_recurrent.ipynb\" target=\"_parent\"><img src=\"https://colab.research.google.com/assets/colab-badge.svg\" alt=\"Open In Colab\"/></a>"
      ]
    },
    {
      "cell_type": "markdown",
      "metadata": {
        "id": "YcNqUwL26kXy"
      },
      "source": [
        "**The raw text version of 'Poirot Investigates' by Agatha Christie is downloaded from Project Guttenberg**"
      ]
    },
    {
      "cell_type": "code",
      "metadata": {
        "id": "MgLS8cAuDLOI"
      },
      "source": [
        "import numpy as np\r\n",
        "import string\r\n",
        "from keras.preprocessing.text import text_to_word_sequence, Tokenizer\r\n",
        "from keras.utils import to_categorical\r\n",
        "import itertools"
      ],
      "execution_count": 137,
      "outputs": []
    },
    {
      "cell_type": "code",
      "metadata": {
        "colab": {
          "base_uri": "https://localhost:8080/"
        },
        "id": "tR-66itlrWHj",
        "outputId": "66af5e28-e494-4782-a88a-e183ce61868e"
      },
      "source": [
        "!curl -O https://www.gutenberg.org/files/61262/61262-0.txt"
      ],
      "execution_count": 1,
      "outputs": [
        {
          "output_type": "stream",
          "text": [
            "  % Total    % Received % Xferd  Average Speed   Time    Time     Time  Current\n",
            "                                 Dload  Upload   Total   Spent    Left  Speed\n",
            "100  326k  100  326k    0     0   280k      0  0:00:01  0:00:01 --:--:--  280k\n"
          ],
          "name": "stdout"
        }
      ]
    },
    {
      "cell_type": "markdown",
      "metadata": {
        "id": "Fx_8D2bi5I8f"
      },
      "source": [
        "**Unwanted text (publishing information etc) is deleted from the text and a new file saved as 'Poirot.txt'**"
      ]
    },
    {
      "cell_type": "code",
      "metadata": {
        "id": "95V3EoA4rcZY"
      },
      "source": [
        "#deleting unwanted text and front and back of book\r\n",
        "with open('61262-0.txt') as old, open('Poirot.txt', 'w') as new:\r\n",
        "    lines = old.readlines()\r\n",
        "    new.writelines(lines[110:-374])"
      ],
      "execution_count": 9,
      "outputs": []
    },
    {
      "cell_type": "markdown",
      "metadata": {
        "id": "d7VAShBGx4i4"
      },
      "source": [
        ""
      ]
    },
    {
      "cell_type": "code",
      "metadata": {
        "colab": {
          "base_uri": "https://localhost:8080/"
        },
        "id": "GZzF1_Ob9-Vl",
        "outputId": "57780d77-5dcf-458b-ec79-a59be09f51cd"
      },
      "source": [
        "#opening the text file, saving into memory as `Poirot` and closing the file\r\n",
        "text = open('Poirot.txt', 'r')\r\n",
        "Poirot = text.read()\r\n",
        "text.close()\r\n",
        "\r\n",
        "#printing first 1000 characters to double check\r\n",
        "print(Poirot[:1000])"
      ],
      "execution_count": 14,
      "outputs": [
        {
          "output_type": "stream",
          "text": [
            "  The Adventure of “The Western Star”\n",
            "\n",
            "I was standing at the window of Poirot’s rooms looking out idly on\n",
            "the street below.\n",
            "\n",
            "“That’s queer,” I ejaculated suddenly beneath my breath.\n",
            "\n",
            "“What is, _mon ami_?” asked Poirot placidly, from the depths of\n",
            "his comfortable chair.\n",
            "\n",
            "“Deduce, Poirot, from the following facts! Here is a young lady,\n",
            "richly dressed—fashionable hat, magnificent furs. She is coming\n",
            "along slowly, looking up at the houses as she goes. Unknown to her,\n",
            "she is being shadowed by three men and a middle-aged woman. They\n",
            "have just been joined by an errand boy who points after the girl,\n",
            "gesticulating as he does so. What drama is this being played? Is\n",
            "the girl a crook, and are the shadowers detectives preparing to\n",
            "arrest her? Or are _they_ the scoundrels, and are they plotting to\n",
            "attack an innocent victim? What does the great detective say?”\n",
            "\n",
            "“The great detective, _mon ami_, chooses, as ever, the simplest\n",
            "course. He rises to see for himself.” And my friend joined me at\n",
            "the window.\n",
            "\n"
          ],
          "name": "stdout"
        }
      ]
    },
    {
      "cell_type": "code",
      "metadata": {
        "colab": {
          "base_uri": "https://localhost:8080/"
        },
        "id": "2oBIRQiIjMbV",
        "outputId": "c1c75780-d365-4542-9883-7fe1eadb945d"
      },
      "source": [
        "# using keras' `text_to_word_sequence` function to tokenise the text\r\n",
        "# addition characters added to the filters to account for the different type\r\n",
        "# of quotation characters found in the text\r\n",
        "\r\n",
        "tokens = Poirot.split()\r\n",
        "table = str.maketrans('', '', string.punctuation)\r\n",
        "tokens = [w.translate(table) for w in tokens]\r\n",
        "cleaned_tokens = [word for word in tokens if word.isalpha()]\r\n",
        "cleaned_tokens = [word.lower() for word in tokens] \r\n",
        "\r\n",
        "#cleaned_tokens = text_to_word_sequence(stripped)\r\n",
        "print(f'There are {len(cleaned_tokens)} words in the cleaned version of Poirot Investigates ({len(set(cleaned_tokens))} unique words).')\r\n",
        "print('------------------------------------------------------------------------------------------------------')\r\n",
        "print(f'Sample of 10 tokens: {cleaned_tokens[:10]}')"
      ],
      "execution_count": 116,
      "outputs": [
        {
          "output_type": "stream",
          "text": [
            "There are 47904 words in the cleaned version of Poirot Investigates (5594 unique words).\n",
            "------------------------------------------------------------------------------------------------------\n",
            "Sample of 10 tokens: ['the', 'adventure', 'of', 'western', 'i', 'was', 'standing', 'at', 'the', 'window']\n"
          ],
          "name": "stdout"
        }
      ]
    },
    {
      "cell_type": "code",
      "metadata": {
        "colab": {
          "base_uri": "https://localhost:8080/"
        },
        "id": "OI-4irhcDSMc",
        "outputId": "f419829a-4ffd-4d73-8ead-19ae82c1b2f6"
      },
      "source": [
        "length = 50 + 1\r\n",
        "sequences = list()\r\n",
        "for i in range(length, len(cleaned_tokens)):\r\n",
        "\t# select sequence of tokens\r\n",
        "\tseq = tokens[i-length:i]\r\n",
        "\t# convert into a line\r\n",
        "\tline = ' '.join(seq)\r\n",
        "\t# store\r\n",
        "\tsequences.append(line)\r\n",
        "print(f'Total Sequences: {len(sequences)}')"
      ],
      "execution_count": 131,
      "outputs": [
        {
          "output_type": "stream",
          "text": [
            "Total Sequences: 47853\n"
          ],
          "name": "stdout"
        }
      ]
    },
    {
      "cell_type": "code",
      "metadata": {
        "colab": {
          "base_uri": "https://localhost:8080/"
        },
        "id": "49gtHKnCec-J",
        "outputId": "4265ec66-0390-4e2c-ce34-bf8108f374f9"
      },
      "source": [
        "txt = '\\n'.join(sequences)\r\n",
        "txt_lines = txt.split('\\n')\r\n",
        "# defining tokenizer class to encode word seuences\r\n",
        "encoder = Tokenizer()\r\n",
        "encoder.fit_on_texts(txt_lines)\r\n",
        "encoded_lines = encoder.texts_to_sequences(txt_lines)\r\n",
        "print('--first line of text shown below in encoded form--')\r\n",
        "print(encoded_lines[0])"
      ],
      "execution_count": 132,
      "outputs": [
        {
          "output_type": "stream",
          "text": [
            "--first line of text shown below in encoded form--\n",
            "[1, 1434, 4, 990, 6, 8, 587, 20, 1, 272, 4, 837, 355, 48, 2825, 23, 1, 586, 1173, 6, 989, 224, 988, 21, 734, 14, 140, 156, 15, 732, 31, 1, 5592, 4, 13, 2824, 422, 15, 31, 1, 446, 333, 105, 14, 3, 113, 115, 5589, 987, 585, 1903]\n"
          ],
          "name": "stdout"
        }
      ]
    },
    {
      "cell_type": "code",
      "metadata": {
        "colab": {
          "base_uri": "https://localhost:8080/"
        },
        "id": "zoI7rpqvqQQ_",
        "outputId": "ee754d35-8975-4c86-a75b-8d0582af249e"
      },
      "source": [
        "word_index = encoder.word_index\r\n",
        "print('printing 10 values from the `word_index` dictionary')\r\n",
        "print('---------------------------------------------------')\r\n",
        "dict(itertools.islice(word_index.items(), 10))"
      ],
      "execution_count": 133,
      "outputs": [
        {
          "output_type": "stream",
          "text": [
            "printing 10 values from the `word_index` dictionary\n",
            "---------------------------------------------------\n"
          ],
          "name": "stdout"
        },
        {
          "output_type": "execute_result",
          "data": {
            "text/plain": [
              "{'a': 3,\n",
              " 'and': 5,\n",
              " 'he': 9,\n",
              " 'i': 6,\n",
              " 'in': 7,\n",
              " 'of': 4,\n",
              " 'that': 10,\n",
              " 'the': 1,\n",
              " 'to': 2,\n",
              " 'was': 8}"
            ]
          },
          "metadata": {
            "tags": []
          },
          "execution_count": 133
        }
      ]
    },
    {
      "cell_type": "code",
      "metadata": {
        "id": "QYFh3GGkylPE"
      },
      "source": [
        "word_dim = len(set(cleaned_tokens))+1\r\n",
        "encoded_lines = np.array(encoded_lines)\r\n",
        "X, y = encoded_lines[:,:-1], encoded_lines[:,-1]\r\n",
        "y = to_categorical(y, num_classes=word_dim)\r\n",
        "sequence_len = X.shape[1]"
      ],
      "execution_count": 158,
      "outputs": []
    },
    {
      "cell_type": "code",
      "metadata": {
        "colab": {
          "base_uri": "https://localhost:8080/"
        },
        "id": "787C0ZFv1jse",
        "outputId": "025fa558-4be8-4eee-ec8d-9e1410453e15"
      },
      "source": [
        "sequence_len"
      ],
      "execution_count": 159,
      "outputs": [
        {
          "output_type": "execute_result",
          "data": {
            "text/plain": [
              "50"
            ]
          },
          "metadata": {
            "tags": []
          },
          "execution_count": 159
        }
      ]
    },
    {
      "cell_type": "markdown",
      "metadata": {
        "id": "QQQkhq3J2PhF"
      },
      "source": [
        "**The model is defined**"
      ]
    },
    {
      "cell_type": "code",
      "metadata": {
        "id": "4nd8y-Al1jpq"
      },
      "source": [
        "# recurrent model"
      ],
      "execution_count": 160,
      "outputs": []
    },
    {
      "cell_type": "code",
      "metadata": {
        "id": "G5UxfeY11jnA"
      },
      "source": [
        ""
      ],
      "execution_count": null,
      "outputs": []
    },
    {
      "cell_type": "code",
      "metadata": {
        "id": "MoF2aFAn0vJy"
      },
      "source": [
        ""
      ],
      "execution_count": null,
      "outputs": []
    }
  ]
}